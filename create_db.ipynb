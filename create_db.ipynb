{
 "cells": [
  {
   "cell_type": "code",
   "execution_count": 1,
   "metadata": {},
   "outputs": [],
   "source": [
    "import mysql.connector\n",
    "import pandas as pd\n",
    "\n",
    "# CSV 파일 로드\n",
    "csv_file_path = 'C:/foodclassification/food_info.csv'\n",
    "df = pd.read_csv(csv_file_path)\n",
    "\n",
    "# MySQL 데이터베이스 연결 설정\n",
    "config = {\n",
    "    'user': 'root',\n",
    "    'password': '1234',\n",
    "    'host': 'localhost',\n",
    "    'database': 'food_info',\n",
    "    'raise_on_warnings': True\n",
    "}\n",
    "\n"
   ]
  },
  {
   "cell_type": "code",
   "execution_count": 38,
   "metadata": {},
   "outputs": [
    {
     "name": "stdout",
     "output_type": "stream",
     "text": [
      "2000\n",
      "4000\n",
      "6000\n"
     ]
    }
   ],
   "source": [
    "# 데이터베이스에 연결\n",
    "import mysql.connector\n",
    "cnx = mysql.connector.connect(**config)\n",
    "cursor = cnx.cursor()\n",
    "count = 0\n",
    "# DataFrame의 각 행을 데이터베이스에 삽입\n",
    "for index, row in df.iterrows():\n",
    "    sql = \"INSERT IGNORE INTO food_info_2 (no, name, serving_size, kcal, carbohydrate, protein, fat,satu_fat, sugars, Fiber, calcium, iron, mag, salt, coles) VALUES (%s, %s, %s, %s, %s, %s, %s, %s, %s, %s, %s, %s, %s, %s, %s)\"\n",
    "    val = (row['NO'],row['식품명'], row['1회제공량'], row['에너지(㎉)'], row['탄수화물(g)'], row['단백질(g)'], row['지방(g)'], row['총 포화 지방산(g)'], row['총당류(g)'], row['총 식이섬유(g)'], row['칼슘(㎎)'], row['철(㎎)'], row['마그네슘(㎎)'], row['나트륨(㎎)'], row['콜레스테롤(㎎)'])\n",
    "    try:\n",
    "        cursor.execute(sql, val)\n",
    "    except mysql.connector.errors.IntegrityError as e:\n",
    "        if e.errno == 1062:  # Duplicate entry for key\n",
    "            pass  # 중복 키 오류를 무시하고 계속 진행\n",
    "        else:\n",
    "            raise  # 다른 오류는 여전히 발생시킴\n",
    "    except mysql.connector.errors.DatabaseError as e:  # 추가된 예외 처리\n",
    "        print(\"데이터베이스 오류 발생:\", e)\n",
    "\n",
    "\n",
    "# 변경사항 저장 및 연결 종료\n",
    "cnx.commit()\n",
    "cursor.close()\n",
    "cnx.close()"
   ]
  },
  {
   "cell_type": "code",
   "execution_count": null,
   "metadata": {},
   "outputs": [],
   "source": [
    "CREATE TABLE `food_info_2` (\n",
    "  `no` int NOT NULL,\n",
    "  `name` varchar(50) DEFAULT NULL,\n",
    "  `serving_size` int DEFAULT NULL,\n",
    "  `kcal` float DEFAULT NULL,\n",
    "  `carbohydrate` float DEFAULT NULL,\n",
    "  `protein` float DEFAULT NULL,\n",
    "  `fat` float DEFAULT NULL,\n",
    "  `satu_fat` float DEFAULT NULL,\n",
    "  `sugars` float DEFAULT NULL,\n",
    "  `Fiber` float DEFAULT NULL,\n",
    "  `calcium` float DEFAULT NULL,\n",
    "  `iron` float DEFAULT NULL,\n",
    "  `mag` float DEFAULT NULL,\n",
    "  `salt` float DEFAULT NULL,\n",
    "  `coles` float DEFAULT NULL,\n",
    "  PRIMARY KEY (`no`),\n",
    "  UNIQUE KEY `name` (`name`),\n",
    "  KEY `idx_name` (`name`)\n",
    ") ENGINE=InnoDB DEFAULT CHARSET=utf8mb4 COLLATE=utf8mb4_0900_ai_ci\n",
    "\n",
    "\n",
    "CREATE TABLE `user_food_intake` (\n",
    "  `id` int NOT NULL AUTO_INCREMENT,\n",
    "  `user_id` varchar(255) NOT NULL,\n",
    "  `food_name` varchar(255) NOT NULL,\n",
    "  `created_at` timestamp NULL DEFAULT CURRENT_TIMESTAMP,\n",
    "  PRIMARY KEY (`id`),\n",
    "  KEY `user_food_intake_ibfk_3` (`user_id`),\n",
    "  KEY `fk_food_name` (`food_name`),\n",
    "  CONSTRAINT `fk_food_name` FOREIGN KEY (`food_name`) REFERENCES `food_info_2` (`name`) ON DELETE CASCADE ON UPDATE CASCADE,\n",
    "  CONSTRAINT `user_food_intake_ibfk_3` FOREIGN KEY (`user_id`) REFERENCES `users` (`username`)\n",
    ") ENGINE=InnoDB AUTO_INCREMENT=19 DEFAULT CHARSET=utf8mb4 COLLATE=utf8mb4_0900_ai_ci\n",
    "\n",
    "CREATE TABLE `users` (\n",
    "  `id` int NOT NULL AUTO_INCREMENT,\n",
    "  `username` varchar(50) NOT NULL,\n",
    "  `pass` varchar(255) NOT NULL,\n",
    "  `email` varchar(100) NOT NULL,\n",
    "  `weight` decimal(5,2) DEFAULT NULL,\n",
    "  `target_weight` decimal(5,2) DEFAULT NULL,\n",
    "  `gender` enum('male','female','other') NOT NULL,\n",
    "  `created_at` timestamp NULL DEFAULT CURRENT_TIMESTAMP,\n",
    "  PRIMARY KEY (`id`),\n",
    "  UNIQUE KEY `username` (`username`),\n",
    "  UNIQUE KEY `email` (`email`)\n",
    ") ENGINE=InnoDB AUTO_INCREMENT=2 DEFAULT CHARSET=utf8mb4 COLLATE=utf8mb4_0900_ai_ci"
   ]
  },
  {
   "cell_type": "code",
   "execution_count": 33,
   "metadata": {},
   "outputs": [
    {
     "data": {
      "text/html": [
       "<div>\n",
       "<style scoped>\n",
       "    .dataframe tbody tr th:only-of-type {\n",
       "        vertical-align: middle;\n",
       "    }\n",
       "\n",
       "    .dataframe tbody tr th {\n",
       "        vertical-align: top;\n",
       "    }\n",
       "\n",
       "    .dataframe thead th {\n",
       "        text-align: right;\n",
       "    }\n",
       "</style>\n",
       "<table border=\"1\" class=\"dataframe\">\n",
       "  <thead>\n",
       "    <tr style=\"text-align: right;\">\n",
       "      <th></th>\n",
       "      <th>NO</th>\n",
       "      <th>식품명</th>\n",
       "      <th>1회제공량</th>\n",
       "      <th>에너지(㎉)</th>\n",
       "      <th>탄수화물(g)</th>\n",
       "      <th>단백질(g)</th>\n",
       "      <th>지방(g)</th>\n",
       "      <th>총 포화 지방산(g)</th>\n",
       "      <th>총당류(g)</th>\n",
       "      <th>총 식이섬유(g)</th>\n",
       "      <th>칼슘(㎎)</th>\n",
       "      <th>철(㎎)</th>\n",
       "      <th>마그네슘(㎎)</th>\n",
       "      <th>나트륨(㎎)</th>\n",
       "      <th>콜레스테롤(㎎)</th>\n",
       "    </tr>\n",
       "  </thead>\n",
       "  <tbody>\n",
       "    <tr>\n",
       "      <th>0</th>\n",
       "      <td>1</td>\n",
       "      <td>꿩불고기</td>\n",
       "      <td>500</td>\n",
       "      <td>368.80</td>\n",
       "      <td>39.70</td>\n",
       "      <td>33.50</td>\n",
       "      <td>8.50</td>\n",
       "      <td>1.90</td>\n",
       "      <td>16.90</td>\n",
       "      <td>9.80</td>\n",
       "      <td>105.61</td>\n",
       "      <td>0.0</td>\n",
       "      <td>85.39</td>\n",
       "      <td>1264.31</td>\n",
       "      <td>106.18</td>\n",
       "    </tr>\n",
       "    <tr>\n",
       "      <th>1</th>\n",
       "      <td>2</td>\n",
       "      <td>닭갈비</td>\n",
       "      <td>400</td>\n",
       "      <td>595.61</td>\n",
       "      <td>44.90</td>\n",
       "      <td>45.90</td>\n",
       "      <td>25.80</td>\n",
       "      <td>6.00</td>\n",
       "      <td>21.20</td>\n",
       "      <td>11.60</td>\n",
       "      <td>98.64</td>\n",
       "      <td>0.0</td>\n",
       "      <td>104.42</td>\n",
       "      <td>1535.83</td>\n",
       "      <td>193.40</td>\n",
       "    </tr>\n",
       "    <tr>\n",
       "      <th>2</th>\n",
       "      <td>4</td>\n",
       "      <td>닭꼬치</td>\n",
       "      <td>70</td>\n",
       "      <td>176.72</td>\n",
       "      <td>13.35</td>\n",
       "      <td>11.56</td>\n",
       "      <td>8.57</td>\n",
       "      <td>2.32</td>\n",
       "      <td>3.15</td>\n",
       "      <td>2.07</td>\n",
       "      <td>17.68</td>\n",
       "      <td>0.0</td>\n",
       "      <td>0.00</td>\n",
       "      <td>286.91</td>\n",
       "      <td>31.44</td>\n",
       "    </tr>\n",
       "    <tr>\n",
       "      <th>3</th>\n",
       "      <td>5</td>\n",
       "      <td>더덕구이</td>\n",
       "      <td>100</td>\n",
       "      <td>184.00</td>\n",
       "      <td>31.10</td>\n",
       "      <td>3.10</td>\n",
       "      <td>5.20</td>\n",
       "      <td>0.80</td>\n",
       "      <td>11.60</td>\n",
       "      <td>6.80</td>\n",
       "      <td>46.42</td>\n",
       "      <td>0.0</td>\n",
       "      <td>38.21</td>\n",
       "      <td>743.37</td>\n",
       "      <td>0.12</td>\n",
       "    </tr>\n",
       "    <tr>\n",
       "      <th>4</th>\n",
       "      <td>6</td>\n",
       "      <td>돼지갈비</td>\n",
       "      <td>100</td>\n",
       "      <td>240.32</td>\n",
       "      <td>8.10</td>\n",
       "      <td>19.50</td>\n",
       "      <td>14.40</td>\n",
       "      <td>4.70</td>\n",
       "      <td>4.50</td>\n",
       "      <td>0.30</td>\n",
       "      <td>47.21</td>\n",
       "      <td>0.0</td>\n",
       "      <td>20.74</td>\n",
       "      <td>404.66</td>\n",
       "      <td>49.34</td>\n",
       "    </tr>\n",
       "  </tbody>\n",
       "</table>\n",
       "</div>"
      ],
      "text/plain": [
       "   NO   식품명  1회제공량  에너지(㎉)  탄수화물(g)  단백질(g)  지방(g)  총 포화 지방산(g)  총당류(g)  \\\n",
       "0   1  꿩불고기    500  368.80    39.70   33.50   8.50         1.90   16.90   \n",
       "1   2   닭갈비    400  595.61    44.90   45.90  25.80         6.00   21.20   \n",
       "2   4   닭꼬치     70  176.72    13.35   11.56   8.57         2.32    3.15   \n",
       "3   5  더덕구이    100  184.00    31.10    3.10   5.20         0.80   11.60   \n",
       "4   6  돼지갈비    100  240.32     8.10   19.50  14.40         4.70    4.50   \n",
       "\n",
       "   총 식이섬유(g)   칼슘(㎎)  철(㎎)  마그네슘(㎎)   나트륨(㎎)  콜레스테롤(㎎)  \n",
       "0       9.80  105.61   0.0    85.39  1264.31    106.18  \n",
       "1      11.60   98.64   0.0   104.42  1535.83    193.40  \n",
       "2       2.07   17.68   0.0     0.00   286.91     31.44  \n",
       "3       6.80   46.42   0.0    38.21   743.37      0.12  \n",
       "4       0.30   47.21   0.0    20.74   404.66     49.34  "
      ]
     },
     "execution_count": 33,
     "metadata": {},
     "output_type": "execute_result"
    }
   ],
   "source": [
    "df.head()"
   ]
  },
  {
   "cell_type": "code",
   "execution_count": 4,
   "metadata": {},
   "outputs": [
    {
     "name": "stdout",
     "output_type": "stream",
     "text": [
      "<class 'pandas.core.frame.DataFrame'>\n",
      "Index: 7146 entries, 0 to 7681\n",
      "Data columns (total 15 columns):\n",
      " #   Column       Non-Null Count  Dtype  \n",
      "---  ------       --------------  -----  \n",
      " 0   NO           7146 non-null   int64  \n",
      " 1   식품명          7146 non-null   object \n",
      " 2   1회제공량        7146 non-null   int64  \n",
      " 3   에너지(㎉)       7146 non-null   float64\n",
      " 4   탄수화물(g)      7146 non-null   object \n",
      " 5   단백질(g)       7146 non-null   object \n",
      " 6   지방(g)        7146 non-null   float64\n",
      " 7   총 포화 지방산(g)  7146 non-null   float64\n",
      " 8   총당류(g)       7146 non-null   object \n",
      " 9   총 식이섬유(g)    7146 non-null   float64\n",
      " 10  칼슘(㎎)        7146 non-null   float64\n",
      " 11  철(㎎)         7146 non-null   float64\n",
      " 12  마그네슘(㎎)      7146 non-null   float64\n",
      " 13  나트륨(㎎)       7146 non-null   float64\n",
      " 14  콜레스테롤(㎎)     7146 non-null   object \n",
      "dtypes: float64(8), int64(2), object(5)\n",
      "memory usage: 893.2+ KB\n"
     ]
    }
   ],
   "source": [
    "df.info()"
   ]
  },
  {
   "cell_type": "code",
   "execution_count": 28,
   "metadata": {},
   "outputs": [],
   "source": [
    "df.drop_duplicates(subset=['식품명'], keep='first', inplace=True)"
   ]
  },
  {
   "cell_type": "code",
   "execution_count": 31,
   "metadata": {},
   "outputs": [
    {
     "name": "stdout",
     "output_type": "stream",
     "text": [
      "<class 'pandas.core.frame.DataFrame'>\n",
      "RangeIndex: 7146 entries, 0 to 7145\n",
      "Data columns (total 15 columns):\n",
      " #   Column       Non-Null Count  Dtype  \n",
      "---  ------       --------------  -----  \n",
      " 0   NO           7146 non-null   int64  \n",
      " 1   식품명          7146 non-null   object \n",
      " 2   1회제공량        7146 non-null   int64  \n",
      " 3   에너지(㎉)       7146 non-null   float64\n",
      " 4   탄수화물(g)      7146 non-null   float64\n",
      " 5   단백질(g)       7146 non-null   float64\n",
      " 6   지방(g)        7146 non-null   float64\n",
      " 7   총 포화 지방산(g)  7146 non-null   float64\n",
      " 8   총당류(g)       7146 non-null   float64\n",
      " 9   총 식이섬유(g)    7146 non-null   float64\n",
      " 10  칼슘(㎎)        7146 non-null   float64\n",
      " 11  철(㎎)         7146 non-null   float64\n",
      " 12  마그네슘(㎎)      7146 non-null   float64\n",
      " 13  나트륨(㎎)       7146 non-null   float64\n",
      " 14  콜레스테롤(㎎)     7146 non-null   float64\n",
      "dtypes: float64(12), int64(2), object(1)\n",
      "memory usage: 837.6+ KB\n"
     ]
    }
   ],
   "source": [
    "df.info()"
   ]
  },
  {
   "cell_type": "code",
   "execution_count": 26,
   "metadata": {},
   "outputs": [],
   "source": [
    "df = df.reset_index(drop=True)"
   ]
  },
  {
   "cell_type": "code",
   "execution_count": 21,
   "metadata": {},
   "outputs": [],
   "source": [
    "import pandas as pd\n",
    "\n",
    "# '-' 값을 0으로 바꾸기\n",
    "df = df.replace('1g 미만', 0)\n",
    "df = df.replace('-', 0)"
   ]
  },
  {
   "cell_type": "code",
   "execution_count": 20,
   "metadata": {},
   "outputs": [],
   "source": [
    "df['탄수화물(g)'] = df['탄수화물(g)'].astype(float)"
   ]
  },
  {
   "cell_type": "code",
   "execution_count": 22,
   "metadata": {},
   "outputs": [],
   "source": [
    "df['단백질(g)'] = df['단백질(g)'].astype(float)"
   ]
  },
  {
   "cell_type": "code",
   "execution_count": 23,
   "metadata": {},
   "outputs": [],
   "source": [
    "df['총당류(g)'] = df['총당류(g)'].astype(float)"
   ]
  },
  {
   "cell_type": "code",
   "execution_count": 24,
   "metadata": {},
   "outputs": [],
   "source": [
    "df['콜레스테롤(㎎)'] = df['콜레스테롤(㎎)'].astype(float)"
   ]
  },
  {
   "cell_type": "code",
   "execution_count": 30,
   "metadata": {},
   "outputs": [],
   "source": [
    "df = df.dropna()"
   ]
  },
  {
   "cell_type": "code",
   "execution_count": 32,
   "metadata": {},
   "outputs": [],
   "source": [
    "df.to_csv('C:/foodclassification/food_info.csv', index=False)"
   ]
  },
  {
   "cell_type": "code",
   "execution_count": null,
   "metadata": {},
   "outputs": [],
   "source": []
  }
 ],
 "metadata": {
  "kernelspec": {
   "display_name": "ttf",
   "language": "python",
   "name": "python3"
  },
  "language_info": {
   "codemirror_mode": {
    "name": "ipython",
    "version": 3
   },
   "file_extension": ".py",
   "mimetype": "text/x-python",
   "name": "python",
   "nbconvert_exporter": "python",
   "pygments_lexer": "ipython3",
   "version": "3.11.7"
  }
 },
 "nbformat": 4,
 "nbformat_minor": 2
}
